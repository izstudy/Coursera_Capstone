{
 "cells": [
  {
   "cell_type": "markdown",
   "id": "d955ee0a",
   "metadata": {},
   "source": [
    "\n",
    "<h1>Couresera Capstone Notebook - This notebook will be mainly used for the capstone project </h1>\n"
   ]
  },
  {
   "cell_type": "markdown",
   "id": "c9e110f1",
   "metadata": {},
   "source": [
    "<title>This notebook will be mainly used for the capstone project</title>"
   ]
  },
  {
   "cell_type": "markdown",
   "id": "eb67a447",
   "metadata": {},
   "source": [
    "<head>\n",
    "  <title>HTML Elements Reference</title>\n",
    "</head>"
   ]
  },
  {
   "cell_type": "code",
   "execution_count": 3,
   "id": "a4346b5c",
   "metadata": {},
   "outputs": [
    {
     "name": "stdout",
     "output_type": "stream",
     "text": [
      "Hello Capstone Project Course!\n"
     ]
    }
   ],
   "source": [
    "import pandas as pd\n",
    "import numpy as np\n",
    "print(\"Hello Capstone Project Course!\")"
   ]
  }
 ],
 "metadata": {
  "kernelspec": {
   "display_name": "Python 3",
   "language": "python",
   "name": "python3"
  },
  "language_info": {
   "codemirror_mode": {
    "name": "ipython",
    "version": 3
   },
   "file_extension": ".py",
   "mimetype": "text/x-python",
   "name": "python",
   "nbconvert_exporter": "python",
   "pygments_lexer": "ipython3",
   "version": "3.9.0"
  }
 },
 "nbformat": 4,
 "nbformat_minor": 5
}
